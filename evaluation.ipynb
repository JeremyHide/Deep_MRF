{
 "cells": [
  {
   "cell_type": "code",
   "execution_count": 24,
   "metadata": {},
   "outputs": [],
   "source": [
    "import os\n",
    "import time\n",
    "\n",
    "import numpy as np\n",
    "import torch\n",
    "from torch import nn, optim\n",
    "from torch.utils.data import DataLoader\n",
    "from tqdm import tqdm\n",
    "from DataBase import DataBase, DataBase_pkl,DataBase_pkl_2D\n",
    "import networks\n",
    "from model import FullNet, ConvNet\n",
    "from get_freqs import findFreq\n",
    "import losses\n",
    "import torch.nn.functional as F\n",
    "\n",
    "import scipy.signal as signal\n",
    "import numpy as np\n",
    "import seaborn as sb\n",
    "from functools import reduce\n",
    "import scipy.io as spio\n",
    "from torch.autograd import Variable"
   ]
  },
  {
   "cell_type": "code",
   "execution_count": 2,
   "metadata": {},
   "outputs": [],
   "source": [
    "import matplotlib.pyplot as plt\n",
    "%matplotlib inline"
   ]
  },
  {
   "cell_type": "code",
   "execution_count": 29,
   "metadata": {},
   "outputs": [],
   "source": [
    "from multiscale_resnet import MSResNet,MSResNet2,MSResNet3,ResNet,MSResNet4"
   ]
  },
  {
   "cell_type": "code",
   "execution_count": 64,
   "metadata": {},
   "outputs": [],
   "source": [
    "testing = DataBase_pkl('./','test', SNR = 0.0,number_of_locations =2)\n",
    "test_dataloader = DataLoader(testing, batch_size=100)#, num_workers=4)"
   ]
  },
  {
   "cell_type": "code",
   "execution_count": 106,
   "metadata": {},
   "outputs": [],
   "source": [
    "inputs,spect,targets, targets_ps, signal_proxy ,signal_class = next(iter(test_dataloader))"
   ]
  },
  {
   "cell_type": "code",
   "execution_count": 107,
   "metadata": {},
   "outputs": [],
   "source": [
    "spio.savemat('test.mat',dict(signals = inputs.numpy(),targets = targets.numpy()))"
   ]
  },
  {
   "cell_type": "code",
   "execution_count": 109,
   "metadata": {},
   "outputs": [],
   "source": [
    "inputs = torch.cat((inputs,spect), dim=1)"
   ]
  },
  {
   "cell_type": "code",
   "execution_count": null,
   "metadata": {},
   "outputs": [],
   "source": [
    "targets = targets[:,:,0]\n",
    "targets,_ = targets.sort()"
   ]
  },
  {
   "cell_type": "code",
   "execution_count": 111,
   "metadata": {},
   "outputs": [],
   "source": [
    "strcut = spio.loadmat('./psnet3')"
   ]
  },
  {
   "cell_type": "code",
   "execution_count": 112,
   "metadata": {},
   "outputs": [],
   "source": [
    "T1 = np.unique(struct['lookuptable'][:,0])\n",
    "T2 = np.unique(struct['lookuptable'][:,0])"
   ]
  },
  {
   "cell_type": "code",
   "execution_count": 113,
   "metadata": {},
   "outputs": [],
   "source": [
    "def get_spectrum(signal,npoints):\n",
    "    fft = np.fft.fft(signal, norm='ortho', n=(npoints))\n",
    "    spectrum = fft.real**2+fft.imag**2\n",
    "    return spectrum\n",
    "def calc_err(esti,GT):\n",
    "    return abs(np.min(esti,1)-np.min(GT,1))/abs(np.min(GT,1)) + abs(np.max(esti,1)-np.max(GT,1))/abs(np.max(GT,1))\n",
    "    #return np.minimum(abs(np.min(esti,1)-np.min(GT,1))/np.min(GT,1) , abs(np.max(esti,1)-np.max(GT,1))/np.max(GT,1))"
   ]
  },
  {
   "cell_type": "code",
   "execution_count": 481,
   "metadata": {
    "scrolled": true
   },
   "outputs": [
    {
     "name": "stdout",
     "output_type": "stream",
     "text": [
      "model loaded\n",
      "model epoch 796\n",
      "model Validation Err 0.10627603503635952\n"
     ]
    },
    {
     "data": {
      "text/plain": [
       "DataParallel(\n",
       "  (module): ResNet(\n",
       "    (lin_in): Linear(in_features=512, out_features=1024, bias=True)\n",
       "    (bn_in): BatchNorm1d(1024, eps=1e-05, momentum=0.1, affine=True, track_running_stats=True)\n",
       "    (conv1): Conv1d(1, 64, kernel_size=(7,), stride=(2,), padding=(3,), bias=False)\n",
       "    (bn1): BatchNorm1d(64, eps=1e-05, momentum=0.1, affine=True, track_running_stats=True)\n",
       "    (relu): ReLU(inplace)\n",
       "    (maxpool): MaxPool1d(kernel_size=3, stride=2, padding=1, dilation=1, ceil_mode=False)\n",
       "    (layer5x5_1): Sequential(\n",
       "      (0): BasicBlock3x3(\n",
       "        (conv1): Conv1d(64, 64, kernel_size=(3,), stride=(2,), padding=(1,), bias=False)\n",
       "        (bn1): BatchNorm1d(64, eps=1e-05, momentum=0.1, affine=True, track_running_stats=True)\n",
       "        (relu): ReLU(inplace)\n",
       "        (conv2): Conv1d(64, 64, kernel_size=(3,), stride=(1,), padding=(1,), bias=False)\n",
       "        (bn2): BatchNorm1d(64, eps=1e-05, momentum=0.1, affine=True, track_running_stats=True)\n",
       "        (downsample): Sequential(\n",
       "          (0): Conv1d(64, 64, kernel_size=(1,), stride=(2,), bias=False)\n",
       "          (1): BatchNorm1d(64, eps=1e-05, momentum=0.1, affine=True, track_running_stats=True)\n",
       "        )\n",
       "      )\n",
       "    )\n",
       "    (layer5x5_2): Sequential(\n",
       "      (0): BasicBlock3x3(\n",
       "        (conv1): Conv1d(64, 128, kernel_size=(3,), stride=(2,), padding=(1,), bias=False)\n",
       "        (bn1): BatchNorm1d(128, eps=1e-05, momentum=0.1, affine=True, track_running_stats=True)\n",
       "        (relu): ReLU(inplace)\n",
       "        (conv2): Conv1d(128, 128, kernel_size=(3,), stride=(1,), padding=(1,), bias=False)\n",
       "        (bn2): BatchNorm1d(128, eps=1e-05, momentum=0.1, affine=True, track_running_stats=True)\n",
       "        (downsample): Sequential(\n",
       "          (0): Conv1d(64, 128, kernel_size=(1,), stride=(2,), bias=False)\n",
       "          (1): BatchNorm1d(128, eps=1e-05, momentum=0.1, affine=True, track_running_stats=True)\n",
       "        )\n",
       "      )\n",
       "    )\n",
       "    (layer5x5_3): Sequential(\n",
       "      (0): BasicBlock3x3(\n",
       "        (conv1): Conv1d(128, 256, kernel_size=(3,), stride=(2,), padding=(1,), bias=False)\n",
       "        (bn1): BatchNorm1d(256, eps=1e-05, momentum=0.1, affine=True, track_running_stats=True)\n",
       "        (relu): ReLU(inplace)\n",
       "        (conv2): Conv1d(256, 256, kernel_size=(3,), stride=(1,), padding=(1,), bias=False)\n",
       "        (bn2): BatchNorm1d(256, eps=1e-05, momentum=0.1, affine=True, track_running_stats=True)\n",
       "        (downsample): Sequential(\n",
       "          (0): Conv1d(128, 256, kernel_size=(1,), stride=(2,), bias=False)\n",
       "          (1): BatchNorm1d(256, eps=1e-05, momentum=0.1, affine=True, track_running_stats=True)\n",
       "        )\n",
       "      )\n",
       "    )\n",
       "    (layer5x5_4): Sequential(\n",
       "      (0): BasicBlock3x3(\n",
       "        (conv1): Conv1d(256, 512, kernel_size=(3,), stride=(2,), padding=(1,), bias=False)\n",
       "        (bn1): BatchNorm1d(512, eps=1e-05, momentum=0.1, affine=True, track_running_stats=True)\n",
       "        (relu): ReLU(inplace)\n",
       "        (conv2): Conv1d(512, 512, kernel_size=(3,), stride=(1,), padding=(1,), bias=False)\n",
       "        (bn2): BatchNorm1d(512, eps=1e-05, momentum=0.1, affine=True, track_running_stats=True)\n",
       "        (downsample): Sequential(\n",
       "          (0): Conv1d(256, 512, kernel_size=(1,), stride=(2,), bias=False)\n",
       "          (1): BatchNorm1d(512, eps=1e-05, momentum=0.1, affine=True, track_running_stats=True)\n",
       "        )\n",
       "      )\n",
       "    )\n",
       "    (maxpool5): AvgPool1d(kernel_size=(8,), stride=(1,), padding=(0,))\n",
       "    (fc0): Linear(in_features=16, out_features=1, bias=True)\n",
       "    (fc1): Linear(in_features=512, out_features=512, bias=True)\n",
       "    (bn_fc1): BatchNorm1d(512, eps=1e-05, momentum=0.1, affine=True, track_running_stats=True)\n",
       "    (fc2): Linear(in_features=512, out_features=512, bias=True)\n",
       "    (bn_fc2): BatchNorm1d(512, eps=1e-05, momentum=0.1, affine=True, track_running_stats=True)\n",
       "    (fc3): Linear(in_features=512, out_features=512, bias=True)\n",
       "    (bn_fc3): BatchNorm1d(512, eps=1e-05, momentum=0.1, affine=True, track_running_stats=True)\n",
       "    (fc4): Linear(in_features=512, out_features=2, bias=True)\n",
       "  )\n",
       ")"
      ]
     },
     "execution_count": 481,
     "metadata": {},
     "output_type": "execute_result"
    }
   ],
   "source": [
    "# Load model\n",
    "target_dim = 2\n",
    "SNR = 0.0\n",
    "model_name = '512_2_model_4_1000.0_model'#'306_4_autoencoder20_SNR_0.0_model'\n",
    "model = ResNet(input_channel=1, num_classes=target_dim)\n",
    "\n",
    "model = nn.DataParallel(model)\n",
    "# Load model \n",
    "checkpoint = torch.load('saved_model/'+model_name+'_data.pth.tar',map_location=lambda storage, loc: storage)\n",
    "print(\"model loaded\")\n",
    "print(\"model epoch {}\".format(checkpoint['epoch']))\n",
    "print(\"model Validation Err {}\".format(checkpoint['Err']))\n",
    "# restores the model and optimizer state_dicts\n",
    "model.load_state_dict(checkpoint['state_dict'])\n",
    "model.eval()"
   ]
  },
  {
   "cell_type": "code",
   "execution_count": 97,
   "metadata": {},
   "outputs": [
    {
     "data": {
      "text/plain": [
       "torch.Size([100, 2])"
      ]
     },
     "execution_count": 97,
     "metadata": {},
     "output_type": "execute_result"
    }
   ],
   "source": [
    "out.shape"
   ]
  },
  {
   "cell_type": "code",
   "execution_count": 482,
   "metadata": {},
   "outputs": [],
   "source": [
    "out = model(inputs.float())\n",
    "esti = out.detach().numpy()*(max(T1) - min(T1)) + min(T1)\n",
    "GT = targets.numpy()*(max(T1) - min(T1)) + min(T1)\n",
    "err_T1 = calc_err(esti,GT)"
   ]
  },
  {
   "cell_type": "code",
   "execution_count": 120,
   "metadata": {
    "scrolled": true
   },
   "outputs": [
    {
     "data": {
      "text/plain": [
       "<matplotlib.axes._subplots.AxesSubplot at 0x124cb2198>"
      ]
     },
     "execution_count": 120,
     "metadata": {},
     "output_type": "execute_result"
    },
    {
     "data": {
      "image/png": "[encoded data removed]",
      "text/plain": [
       "<Figure size 432x288 with 1 Axes>"
      ]
     },
     "metadata": {},
     "output_type": "display_data"
    }
   ],
   "source": [
    "sb.boxplot(err_T1,linewidth=2.5)"
   ]
  },
  {
   "cell_type": "code",
   "execution_count": 484,
   "metadata": {},
   "outputs": [
    {
     "data": {
      "text/plain": [
       "0.051057793"
      ]
     },
     "execution_count": 484,
     "metadata": {},
     "output_type": "execute_result"
    }
   ],
   "source": [
    "np.std(err_T1)"
   ]
  },
  {
   "cell_type": "code",
   "execution_count": 121,
   "metadata": {},
   "outputs": [],
   "source": [
    "def calc_err_(esti,GT):\n",
    "    return (esti-GT)/GT"
   ]
  },
  {
   "cell_type": "code",
   "execution_count": 142,
   "metadata": {},
   "outputs": [],
   "source": [
    "err_T11 = []\n",
    "err_T12 = []\n",
    "GT_T11 = []\n",
    "GT_T12 = []\n",
    "for inputs,spect,targets, targets_ps,_ ,_ in test_dataloader:\n",
    "    inputs = torch.cat((inputs,spect), dim=1)\n",
    "    out = model(inputs.float())\n",
    "    targets = targets[:,:,0]\n",
    "    targets,_ = targets.sort()\n",
    "    targets = targets.float()\n",
    "    err_T11.append(calc_err_(out[:,0]*(max(T1) - min(T1)) + min(T1),targets[:,0]*(max(T1) - min(T1)) + min(T1)))\n",
    "    err_T12.append(calc_err_(out[:,1]*(max(T1) - min(T1)) + min(T1),targets[:,1]*(max(T1) - min(T1)) + min(T1)))\n",
    "    GT_T11.append(targets[:,0]*(max(T1) - min(T1)) + min(T1))\n",
    "    GT_T12.append(targets[:,1]*(max(T1) - min(T1)) + min(T1))"
   ]
  },
  {
   "cell_type": "code",
   "execution_count": 143,
   "metadata": {},
   "outputs": [],
   "source": [
    "err_T11 = torch.cat(err_T11,0)\n",
    "err_T12 = torch.cat(err_T12,0)"
   ]
  },
  {
   "cell_type": "code",
   "execution_count": 144,
   "metadata": {},
   "outputs": [],
   "source": [
    "GT_T11 = torch.cat(GT_T11,0)\n",
    "GT_T12 = torch.cat(GT_T12,0)"
   ]
  },
  {
   "cell_type": "code",
   "execution_count": 148,
   "metadata": {},
   "outputs": [
    {
     "data": {
      "text/plain": [
       "3000"
      ]
     },
     "execution_count": 148,
     "metadata": {},
     "output_type": "execute_result"
    }
   ],
   "source": [
    "len(GT_T11)"
   ]
  },
  {
   "cell_type": "code",
   "execution_count": 158,
   "metadata": {},
   "outputs": [
    {
     "data": {
      "text/plain": [
       "array([ 0.02339031,  0.00680149, -0.00333209, ..., -0.00277841,\n",
       "        0.00970638, -0.00698238], dtype=float32)"
      ]
     },
     "execution_count": 158,
     "metadata": {},
     "output_type": "execute_result"
    }
   ],
   "source": [
    "err_T11.detach().numpy()"
   ]
  },
  {
   "cell_type": "code",
   "execution_count": 236,
   "metadata": {},
   "outputs": [
    {
     "data": {
      "image/png": "[encoded data removed]",
      "text/plain": [
       "<Figure size 288x288 with 1 Axes>"
      ]
     },
     "metadata": {},
     "output_type": "display_data"
    }
   ],
   "source": [
    "from matplotlib.ticker import PercentFormatter\n",
    "plt.plot(GT_T11.detach().numpy(),err_T11.detach().numpy(),'skyblue',marker='o',linestyle=\"None\")\n",
    "#plt.xlim([0.15,2.1])\n",
    "plt.ylim([-1,1])\n",
    "plt.gca().yaxis.set_major_formatter(PercentFormatter(1))\n",
    "plt.xlabel(r'Ground truth $T_1$ values [ms]',fontsize=13)\n",
    "plt.ylabel(r'Relative error of estimated $T_1$ values [ms]',fontsize=11)\n",
    "fig = plt.gcf()\n",
    "fig.set_size_inches(4, 4)\n",
    "plt.savefig('T11_heatmap.png',bbox_inches='tight')"
   ]
  },
  {
   "cell_type": "code",
   "execution_count": 465,
   "metadata": {},
   "outputs": [
    {
     "data": {
      "text/plain": [
       "0.00879191"
      ]
     },
     "execution_count": 465,
     "metadata": {},
     "output_type": "execute_result"
    }
   ],
   "source": [
    "np.mean(err_T11.detach().numpy())"
   ]
  },
  {
   "cell_type": "code",
   "execution_count": 237,
   "metadata": {},
   "outputs": [
    {
     "data": {
      "image/png": "[encoded data removed]",
      "text/plain": [
       "<Figure size 288x288 with 1 Axes>"
      ]
     },
     "metadata": {},
     "output_type": "display_data"
    }
   ],
   "source": [
    "from matplotlib.ticker import PercentFormatter\n",
    "plt.plot(GT_T12.detach().numpy(),err_T12.detach().numpy(),'skyblue',marker='o',linestyle=\"None\")\n",
    "#plt.xlim([0.15,2.1])\n",
    "plt.ylim([-1,1])\n",
    "plt.gca().yaxis.set_major_formatter(PercentFormatter(1))\n",
    "plt.xlabel(r'Ground truth $T_1$ values [ms]',fontsize=13)\n",
    "plt.ylabel(r'Relative error of estimated $T_1$ values [ms]',fontsize=11)\n",
    "fig = plt.gcf()\n",
    "fig.set_size_inches(4, 4)\n",
    "plt.savefig('T12_heatmap.png',bbox_inches='tight')"
   ]
  },
  {
   "cell_type": "code",
   "execution_count": null,
   "metadata": {},
   "outputs": [],
   "source": []
  },
  {
   "cell_type": "code",
   "execution_count": 466,
   "metadata": {},
   "outputs": [
    {
     "data": {
      "image/png": "[encoded data removed]",
      "text/plain": [
       "<Figure size 288x288 with 1 Axes>"
      ]
     },
     "metadata": {},
     "output_type": "display_data"
    }
   ],
   "source": [
    "plt.plot(a_,b_,'skyblue',marker='o',linestyle=\"None\")\n",
    "#plt.xlim([0.15,2.1])\n",
    "plt.ylim([-1,1])\n",
    "plt.gca().yaxis.set_major_formatter(PercentFormatter(1))\n",
    "plt.xlabel(r'Ground truth $T_1$ values [ms]',fontsize=13)\n",
    "plt.ylabel(r'Relative error of estimated $T_1$ values [ms]',fontsize=11)\n",
    "fig = plt.gcf()\n",
    "fig.set_size_inches(4, 4)\n",
    "plt.savefig('T11_regression.png',bbox_inches='tight')"
   ]
  },
  {
   "cell_type": "code",
   "execution_count": 463,
   "metadata": {},
   "outputs": [
    {
     "data": {
      "text/plain": [
       "0.00746812864489141"
      ]
     },
     "execution_count": 463,
     "metadata": {},
     "output_type": "execute_result"
    }
   ],
   "source": [
    "np.mean(b_)"
   ]
  },
  {
   "cell_type": "code",
   "execution_count": 467,
   "metadata": {},
   "outputs": [
    {
     "data": {
      "image/png": "[encoded data removed]",
      "text/plain": [
       "<Figure size 288x288 with 1 Axes>"
      ]
     },
     "metadata": {},
     "output_type": "display_data"
    }
   ],
   "source": [
    "plt.plot(c_,d_,'skyblue',marker='o',linestyle=\"None\")\n",
    "#plt.xlim([0.15,2.1])\n",
    "plt.ylim([-1,1])\n",
    "plt.gca().yaxis.set_major_formatter(PercentFormatter(1))\n",
    "plt.xlabel(r'Ground truth $T_1$ values [ms]',fontsize=13)\n",
    "plt.ylabel(r'Relative error of estimated $T_1$ values [ms]',fontsize=11)\n",
    "fig = plt.gcf()\n",
    "fig.set_size_inches(4, 4)\n",
    "plt.savefig('T12_regression.png',bbox_inches='tight')"
   ]
  },
  {
   "cell_type": "code",
   "execution_count": 464,
   "metadata": {},
   "outputs": [
    {
     "data": {
      "text/plain": [
       "0.0034365194061145915"
      ]
     },
     "execution_count": 464,
     "metadata": {},
     "output_type": "execute_result"
    }
   ],
   "source": [
    "np.mean(d_)"
   ]
  },
  {
   "cell_type": "code",
   "execution_count": 276,
   "metadata": {},
   "outputs": [],
   "source": [
    "outputs_all = []\n",
    "targets_all = []\n",
    "for inputs,spect,targets, targets_ps,_ ,_ in test_dataloader:\n",
    "    inputs = torch.cat((inputs,spect), dim=1)\n",
    "    out = model(inputs.float())\n",
    "    targets = targets[:,:,0]\n",
    "    targets,_ = targets.sort()\n",
    "    targets = targets.float()\n",
    "    \n",
    "    outputs_all.append(out)\n",
    "    targets_all.append(targets)\n",
    "outputs_all = torch.cat(outputs_all)\n",
    "targets_all = torch.cat(targets_all)\n",
    "outputs_all_flatted = outputs_all.detach().numpy()#.flatten()\n",
    "targets_all_flatted = targets_all.detach().numpy()#.flatten()"
   ]
  },
  {
   "cell_type": "code",
   "execution_count": 457,
   "metadata": {},
   "outputs": [
    {
     "data": {
      "image/png": "[encoded data removed]",
      "text/plain": [
       "<Figure size 360x360 with 1 Axes>"
      ]
     },
     "metadata": {},
     "output_type": "display_data"
    }
   ],
   "source": [
    "c = ['skyblue','darkorange' ]\n",
    "legends = ['1st Compartment', '2nd Compartment']\n",
    "fig, ax = plt.subplots()\n",
    "for i in range(outputs_all_flatted.shape[1]):\n",
    "    ax.scatter(targets_all_flatted[:,i]*(max(T1) - min(T1)) + min(T1), outputs_all_flatted[:,i]*(max(T1) - min(T1)) + min(T1),color =c[i], label = legends[i])\n",
    "plt.xlabel(r'Ground truth $T_1$ values [ms]',fontsize=14)\n",
    "plt.ylabel(r'Estimated $T_1$ values [ms]',fontsize=14) \n",
    "ax.set_xlim([0.2,2.1])\n",
    "ax.set_ylim([0.2,2.1])\n",
    "plt.legend()\n",
    "#fig = plt.gcf()\n",
    "fig.set_size_inches(5, 5)\n",
    "\n",
    "lims = [\n",
    "    np.min([ax.get_xlim(), ax.get_ylim()]),  # min of both axes\n",
    "    np.max([ax.get_xlim(), ax.get_ylim()]),  # max of both axes\n",
    "]\n",
    "\n",
    "# now plot both limits against eachother\n",
    "ax.plot(lims, lims, 'k-', alpha=0.75, zorder=0)\n",
    "\n",
    "plt.savefig('esti_gt_heatmap.png',bbox_inches='tight')"
   ]
  },
  {
   "cell_type": "code",
   "execution_count": 451,
   "metadata": {},
   "outputs": [
    {
     "data": {
      "image/png": "[encoded data removed]",
      "text/plain": [
       "<Figure size 360x360 with 1 Axes>"
      ]
     },
     "metadata": {},
     "output_type": "display_data"
    }
   ],
   "source": [
    "co = ['skyblue','darkorange' ]\n",
    "legends = ['1st Compartment', '2nd Compartment']\n",
    "dd = [e,f]\n",
    "for i in range(2):\n",
    "    plt.scatter(targets_all_flatted[:,i]*(max(T1) - min(T1)) + min(T1), dd[i]*(max(T1) - min(T1)) + min(T1),color =c[i], label = legends[i])\n",
    "plt.xlabel(r'Ground truth $T_1$ values [ms]',fontsize=14)\n",
    "plt.ylabel(r'Estimated $T_1$ values [ms]',fontsize=14) \n",
    "plt.xlim([0.2,2.1])\n",
    "plt.ylim([0.2,2.1])\n",
    "plt.legend()\n",
    "fig = plt.gcf()\n",
    "fig.set_size_inches(5, 5)\n",
    "plt.savefig('esti_gt_regression.png',bbox_inches='tight')"
   ]
  },
  {
   "cell_type": "code",
   "execution_count": null,
   "metadata": {},
   "outputs": [],
   "source": []
  }
 ],
 "metadata": {
  "kernelspec": {
   "display_name": "Python 3",
   "language": "python",
   "name": "python3"
  },
  "language_info": {
   "codemirror_mode": {
    "name": "ipython",
    "version": 3
   },
   "file_extension": ".py",
   "mimetype": "text/x-python",
   "name": "python",
   "nbconvert_exporter": "python",
   "pygments_lexer": "ipython3",
   "version": "3.6.5"
  }
 },
 "nbformat": 4,
 "nbformat_minor": 2
}
